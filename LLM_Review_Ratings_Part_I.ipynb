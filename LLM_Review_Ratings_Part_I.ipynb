{
  "nbformat": 4,
  "nbformat_minor": 0,
  "metadata": {
    "colab": {
      "provenance": [],
      "gpuType": "T4"
    },
    "kernelspec": {
      "name": "python3",
      "display_name": "Python 3"
    },
    "language_info": {
      "name": "python"
    },
    "accelerator": "GPU"
  },
  "cells": [
    {
      "cell_type": "code",
      "source": [
        "# Problem statement for Large Language Model\n",
        "# The user review data has to be downloaded from the given repository\n",
        "# A Model has to be built using Basic steps, which can help predict the Rating for given Review\n",
        "# The embeddings can be used for any of the provider, like Universal Sentence Encoder or OpenAI\n",
        "# The review data handling, processing the embeddings, Building the Model should be done in a way:\n",
        "#     : the usage of Memory is low\n",
        "#     : the Model can be built and run with given basic resources of google colab notebook, and without deploying any high end server\n",
        "#     : the time taken in different steps should not overshoot and become unacceptable\n",
        "#     : using Batch processing, iteratively is preferred\n",
        "#     : using cache is preferred\n",
        "#     : the Model should be saved for future, and not to be built again\n",
        "#     : the embeddings also should be saved, to avoid downloading again, saving cost"
      ],
      "metadata": {
        "id": "NCF1umrHRgUW"
      },
      "execution_count": null,
      "outputs": []
    },
    {
      "cell_type": "code",
      "source": [
        "import pandas as pd\n",
        "import os\n",
        "from google.colab import drive\n",
        "\n",
        "# Mount Google Drive\n",
        "drive.mount('/content/drive')\n",
        "\n",
        "# File paths\n",
        "file_path = '/content/drive/My Drive/CloudxLab/amazon_review_small.txt'\n",
        "file_prefix = '/content/drive/MyDrive/split_file_part_'\n",
        "file_suffix = '.txt'\n",
        "\n",
        "# Splitting the file into smaller chunks\n",
        "chunk_size = 20000\n",
        "chunks = pd.read_csv(file_path, chunksize=chunk_size, encoding='utf-8')\n",
        "\n",
        "file_counter = 1\n",
        "for chunk in chunks:\n",
        "    split_file_name = f\"{file_prefix}{file_counter}{file_suffix}\"\n",
        "    chunk.to_csv(split_file_name, index=False, encoding='utf-8')\n",
        "    file_counter += 1\n",
        "\n",
        "print(f\"Split files are created with prefix: {file_prefix}\")\n",
        "print(f\"Total files created: {file_counter - 1}\")\n",
        "\n",
        "# Loading the split files into a list of DataFrames and concatenating them\n",
        "data = []\n",
        "for i in range(1, file_counter):\n",
        "    file_name = f\"{file_prefix}{i}{file_suffix}\"\n",
        "    df_chunk = pd.read_csv(file_name, encoding='utf-8')\n",
        "    data.append(df_chunk)\n",
        "    print(f\"Read file: {file_name} with {len(df_chunk)} records\")\n",
        "\n",
        "# Combine all chunks into a single DataFrame\n",
        "df = pd.concat(data, ignore_index=True)\n",
        "\n",
        "print(f\"Total records after concatenation: {len(df)}\")"
      ],
      "metadata": {
        "colab": {
          "base_uri": "https://localhost:8080/"
        },
        "id": "jAaXgbaEfgn7",
        "outputId": "0d116a79-a4bf-4686-f152-3fc24e8cd342"
      },
      "execution_count": null,
      "outputs": [
        {
          "output_type": "stream",
          "name": "stdout",
          "text": [
            "Mounted at /content/drive\n",
            "Split files are created with prefix: /content/drive/MyDrive/split_file_part_\n",
            "Total files created: 33\n",
            "Read file: /content/drive/MyDrive/split_file_part_1.txt with 20000 records\n",
            "Read file: /content/drive/MyDrive/split_file_part_2.txt with 20000 records\n",
            "Read file: /content/drive/MyDrive/split_file_part_3.txt with 20000 records\n",
            "Read file: /content/drive/MyDrive/split_file_part_4.txt with 20000 records\n",
            "Read file: /content/drive/MyDrive/split_file_part_5.txt with 20000 records\n",
            "Read file: /content/drive/MyDrive/split_file_part_6.txt with 20000 records\n",
            "Read file: /content/drive/MyDrive/split_file_part_7.txt with 20000 records\n",
            "Read file: /content/drive/MyDrive/split_file_part_8.txt with 20000 records\n",
            "Read file: /content/drive/MyDrive/split_file_part_9.txt with 20000 records\n",
            "Read file: /content/drive/MyDrive/split_file_part_10.txt with 20000 records\n",
            "Read file: /content/drive/MyDrive/split_file_part_11.txt with 20000 records\n",
            "Read file: /content/drive/MyDrive/split_file_part_12.txt with 20000 records\n",
            "Read file: /content/drive/MyDrive/split_file_part_13.txt with 20000 records\n",
            "Read file: /content/drive/MyDrive/split_file_part_14.txt with 20000 records\n",
            "Read file: /content/drive/MyDrive/split_file_part_15.txt with 20000 records\n",
            "Read file: /content/drive/MyDrive/split_file_part_16.txt with 20000 records\n",
            "Read file: /content/drive/MyDrive/split_file_part_17.txt with 20000 records\n",
            "Read file: /content/drive/MyDrive/split_file_part_18.txt with 20000 records\n",
            "Read file: /content/drive/MyDrive/split_file_part_19.txt with 20000 records\n",
            "Read file: /content/drive/MyDrive/split_file_part_20.txt with 20000 records\n",
            "Read file: /content/drive/MyDrive/split_file_part_21.txt with 20000 records\n",
            "Read file: /content/drive/MyDrive/split_file_part_22.txt with 20000 records\n",
            "Read file: /content/drive/MyDrive/split_file_part_23.txt with 20000 records\n",
            "Read file: /content/drive/MyDrive/split_file_part_24.txt with 20000 records\n",
            "Read file: /content/drive/MyDrive/split_file_part_25.txt with 20000 records\n",
            "Read file: /content/drive/MyDrive/split_file_part_26.txt with 20000 records\n",
            "Read file: /content/drive/MyDrive/split_file_part_27.txt with 20000 records\n",
            "Read file: /content/drive/MyDrive/split_file_part_28.txt with 20000 records\n",
            "Read file: /content/drive/MyDrive/split_file_part_29.txt with 20000 records\n",
            "Read file: /content/drive/MyDrive/split_file_part_30.txt with 20000 records\n",
            "Read file: /content/drive/MyDrive/split_file_part_31.txt with 20000 records\n",
            "Read file: /content/drive/MyDrive/split_file_part_32.txt with 20000 records\n",
            "Read file: /content/drive/MyDrive/split_file_part_33.txt with 9999 records\n",
            "Total records after concatenation: 649999\n"
          ]
        }
      ]
    },
    {
      "cell_type": "code",
      "source": [
        "df.head()"
      ],
      "metadata": {
        "colab": {
          "base_uri": "https://localhost:8080/",
          "height": 293
        },
        "id": "Y0-Hsnv2fsh3",
        "outputId": "faa85509-45df-46a3-9e79-f8bdb7c8728e"
      },
      "execution_count": null,
      "outputs": [
        {
          "output_type": "execute_result",
          "data": {
            "text/plain": [
              "   1               mens ultrasheer  \\\n",
              "0  4       Surprisingly delightful   \n",
              "1  2  Works, but not as advertised   \n",
              "2  2                       Oh dear   \n",
              "3  2               Incorrect disc!   \n",
              "4  2                Incorrect Disc   \n",
              "\n",
              "  This model may be ok for sedentary types, but I'm active and get around alot in my job - consistently found these stockings rolled up down by my ankles! Not Good!! Solution: go with the standard compression stocking, 20-30, stock #114622. Excellent support, stays up and gives me what I need. Both pair of these also tore as I struggled to pull them up all the time. Good riddance/bad investment!  \n",
              "0  This is a fast read filled with unexpected hum...                                                                                                                                                                                                                                                                                                                                                            \n",
              "1  I bought one of these chargers..the instructio...                                                                                                                                                                                                                                                                                                                                                            \n",
              "2  I was excited to find a book ostensibly about ...                                                                                                                                                                                                                                                                                                                                                            \n",
              "3  I am a big JVC fan, but I do not like this mod...                                                                                                                                                                                                                                                                                                                                                            \n",
              "4  I love the style of this, but after a couple y...                                                                                                                                                                                                                                                                                                                                                            "
            ],
            "text/html": [
              "\n",
              "  <div id=\"df-49d98edf-2fa8-49d7-8f61-d5e7228fc944\" class=\"colab-df-container\">\n",
              "    <div>\n",
              "<style scoped>\n",
              "    .dataframe tbody tr th:only-of-type {\n",
              "        vertical-align: middle;\n",
              "    }\n",
              "\n",
              "    .dataframe tbody tr th {\n",
              "        vertical-align: top;\n",
              "    }\n",
              "\n",
              "    .dataframe thead th {\n",
              "        text-align: right;\n",
              "    }\n",
              "</style>\n",
              "<table border=\"1\" class=\"dataframe\">\n",
              "  <thead>\n",
              "    <tr style=\"text-align: right;\">\n",
              "      <th></th>\n",
              "      <th>1</th>\n",
              "      <th>mens ultrasheer</th>\n",
              "      <th>This model may be ok for sedentary types, but I'm active and get around alot in my job - consistently found these stockings rolled up down by my ankles! Not Good!! Solution: go with the standard compression stocking, 20-30, stock #114622. Excellent support, stays up and gives me what I need. Both pair of these also tore as I struggled to pull them up all the time. Good riddance/bad investment!</th>\n",
              "    </tr>\n",
              "  </thead>\n",
              "  <tbody>\n",
              "    <tr>\n",
              "      <th>0</th>\n",
              "      <td>4</td>\n",
              "      <td>Surprisingly delightful</td>\n",
              "      <td>This is a fast read filled with unexpected hum...</td>\n",
              "    </tr>\n",
              "    <tr>\n",
              "      <th>1</th>\n",
              "      <td>2</td>\n",
              "      <td>Works, but not as advertised</td>\n",
              "      <td>I bought one of these chargers..the instructio...</td>\n",
              "    </tr>\n",
              "    <tr>\n",
              "      <th>2</th>\n",
              "      <td>2</td>\n",
              "      <td>Oh dear</td>\n",
              "      <td>I was excited to find a book ostensibly about ...</td>\n",
              "    </tr>\n",
              "    <tr>\n",
              "      <th>3</th>\n",
              "      <td>2</td>\n",
              "      <td>Incorrect disc!</td>\n",
              "      <td>I am a big JVC fan, but I do not like this mod...</td>\n",
              "    </tr>\n",
              "    <tr>\n",
              "      <th>4</th>\n",
              "      <td>2</td>\n",
              "      <td>Incorrect Disc</td>\n",
              "      <td>I love the style of this, but after a couple y...</td>\n",
              "    </tr>\n",
              "  </tbody>\n",
              "</table>\n",
              "</div>\n",
              "    <div class=\"colab-df-buttons\">\n",
              "\n",
              "  <div class=\"colab-df-container\">\n",
              "    <button class=\"colab-df-convert\" onclick=\"convertToInteractive('df-49d98edf-2fa8-49d7-8f61-d5e7228fc944')\"\n",
              "            title=\"Convert this dataframe to an interactive table.\"\n",
              "            style=\"display:none;\">\n",
              "\n",
              "  <svg xmlns=\"http://www.w3.org/2000/svg\" height=\"24px\" viewBox=\"0 -960 960 960\">\n",
              "    <path d=\"M120-120v-720h720v720H120Zm60-500h600v-160H180v160Zm220 220h160v-160H400v160Zm0 220h160v-160H400v160ZM180-400h160v-160H180v160Zm440 0h160v-160H620v160ZM180-180h160v-160H180v160Zm440 0h160v-160H620v160Z\"/>\n",
              "  </svg>\n",
              "    </button>\n",
              "\n",
              "  <style>\n",
              "    .colab-df-container {\n",
              "      display:flex;\n",
              "      gap: 12px;\n",
              "    }\n",
              "\n",
              "    .colab-df-convert {\n",
              "      background-color: #E8F0FE;\n",
              "      border: none;\n",
              "      border-radius: 50%;\n",
              "      cursor: pointer;\n",
              "      display: none;\n",
              "      fill: #1967D2;\n",
              "      height: 32px;\n",
              "      padding: 0 0 0 0;\n",
              "      width: 32px;\n",
              "    }\n",
              "\n",
              "    .colab-df-convert:hover {\n",
              "      background-color: #E2EBFA;\n",
              "      box-shadow: 0px 1px 2px rgba(60, 64, 67, 0.3), 0px 1px 3px 1px rgba(60, 64, 67, 0.15);\n",
              "      fill: #174EA6;\n",
              "    }\n",
              "\n",
              "    .colab-df-buttons div {\n",
              "      margin-bottom: 4px;\n",
              "    }\n",
              "\n",
              "    [theme=dark] .colab-df-convert {\n",
              "      background-color: #3B4455;\n",
              "      fill: #D2E3FC;\n",
              "    }\n",
              "\n",
              "    [theme=dark] .colab-df-convert:hover {\n",
              "      background-color: #434B5C;\n",
              "      box-shadow: 0px 1px 3px 1px rgba(0, 0, 0, 0.15);\n",
              "      filter: drop-shadow(0px 1px 2px rgba(0, 0, 0, 0.3));\n",
              "      fill: #FFFFFF;\n",
              "    }\n",
              "  </style>\n",
              "\n",
              "    <script>\n",
              "      const buttonEl =\n",
              "        document.querySelector('#df-49d98edf-2fa8-49d7-8f61-d5e7228fc944 button.colab-df-convert');\n",
              "      buttonEl.style.display =\n",
              "        google.colab.kernel.accessAllowed ? 'block' : 'none';\n",
              "\n",
              "      async function convertToInteractive(key) {\n",
              "        const element = document.querySelector('#df-49d98edf-2fa8-49d7-8f61-d5e7228fc944');\n",
              "        const dataTable =\n",
              "          await google.colab.kernel.invokeFunction('convertToInteractive',\n",
              "                                                    [key], {});\n",
              "        if (!dataTable) return;\n",
              "\n",
              "        const docLinkHtml = 'Like what you see? Visit the ' +\n",
              "          '<a target=\"_blank\" href=https://colab.research.google.com/notebooks/data_table.ipynb>data table notebook</a>'\n",
              "          + ' to learn more about interactive tables.';\n",
              "        element.innerHTML = '';\n",
              "        dataTable['output_type'] = 'display_data';\n",
              "        await google.colab.output.renderOutput(dataTable, element);\n",
              "        const docLink = document.createElement('div');\n",
              "        docLink.innerHTML = docLinkHtml;\n",
              "        element.appendChild(docLink);\n",
              "      }\n",
              "    </script>\n",
              "  </div>\n",
              "\n",
              "\n",
              "<div id=\"df-94db15c8-a26c-499e-a8f2-95810b73c7db\">\n",
              "  <button class=\"colab-df-quickchart\" onclick=\"quickchart('df-94db15c8-a26c-499e-a8f2-95810b73c7db')\"\n",
              "            title=\"Suggest charts\"\n",
              "            style=\"display:none;\">\n",
              "\n",
              "<svg xmlns=\"http://www.w3.org/2000/svg\" height=\"24px\"viewBox=\"0 0 24 24\"\n",
              "     width=\"24px\">\n",
              "    <g>\n",
              "        <path d=\"M19 3H5c-1.1 0-2 .9-2 2v14c0 1.1.9 2 2 2h14c1.1 0 2-.9 2-2V5c0-1.1-.9-2-2-2zM9 17H7v-7h2v7zm4 0h-2V7h2v10zm4 0h-2v-4h2v4z\"/>\n",
              "    </g>\n",
              "</svg>\n",
              "  </button>\n",
              "\n",
              "<style>\n",
              "  .colab-df-quickchart {\n",
              "      --bg-color: #E8F0FE;\n",
              "      --fill-color: #1967D2;\n",
              "      --hover-bg-color: #E2EBFA;\n",
              "      --hover-fill-color: #174EA6;\n",
              "      --disabled-fill-color: #AAA;\n",
              "      --disabled-bg-color: #DDD;\n",
              "  }\n",
              "\n",
              "  [theme=dark] .colab-df-quickchart {\n",
              "      --bg-color: #3B4455;\n",
              "      --fill-color: #D2E3FC;\n",
              "      --hover-bg-color: #434B5C;\n",
              "      --hover-fill-color: #FFFFFF;\n",
              "      --disabled-bg-color: #3B4455;\n",
              "      --disabled-fill-color: #666;\n",
              "  }\n",
              "\n",
              "  .colab-df-quickchart {\n",
              "    background-color: var(--bg-color);\n",
              "    border: none;\n",
              "    border-radius: 50%;\n",
              "    cursor: pointer;\n",
              "    display: none;\n",
              "    fill: var(--fill-color);\n",
              "    height: 32px;\n",
              "    padding: 0;\n",
              "    width: 32px;\n",
              "  }\n",
              "\n",
              "  .colab-df-quickchart:hover {\n",
              "    background-color: var(--hover-bg-color);\n",
              "    box-shadow: 0 1px 2px rgba(60, 64, 67, 0.3), 0 1px 3px 1px rgba(60, 64, 67, 0.15);\n",
              "    fill: var(--button-hover-fill-color);\n",
              "  }\n",
              "\n",
              "  .colab-df-quickchart-complete:disabled,\n",
              "  .colab-df-quickchart-complete:disabled:hover {\n",
              "    background-color: var(--disabled-bg-color);\n",
              "    fill: var(--disabled-fill-color);\n",
              "    box-shadow: none;\n",
              "  }\n",
              "\n",
              "  .colab-df-spinner {\n",
              "    border: 2px solid var(--fill-color);\n",
              "    border-color: transparent;\n",
              "    border-bottom-color: var(--fill-color);\n",
              "    animation:\n",
              "      spin 1s steps(1) infinite;\n",
              "  }\n",
              "\n",
              "  @keyframes spin {\n",
              "    0% {\n",
              "      border-color: transparent;\n",
              "      border-bottom-color: var(--fill-color);\n",
              "      border-left-color: var(--fill-color);\n",
              "    }\n",
              "    20% {\n",
              "      border-color: transparent;\n",
              "      border-left-color: var(--fill-color);\n",
              "      border-top-color: var(--fill-color);\n",
              "    }\n",
              "    30% {\n",
              "      border-color: transparent;\n",
              "      border-left-color: var(--fill-color);\n",
              "      border-top-color: var(--fill-color);\n",
              "      border-right-color: var(--fill-color);\n",
              "    }\n",
              "    40% {\n",
              "      border-color: transparent;\n",
              "      border-right-color: var(--fill-color);\n",
              "      border-top-color: var(--fill-color);\n",
              "    }\n",
              "    60% {\n",
              "      border-color: transparent;\n",
              "      border-right-color: var(--fill-color);\n",
              "    }\n",
              "    80% {\n",
              "      border-color: transparent;\n",
              "      border-right-color: var(--fill-color);\n",
              "      border-bottom-color: var(--fill-color);\n",
              "    }\n",
              "    90% {\n",
              "      border-color: transparent;\n",
              "      border-bottom-color: var(--fill-color);\n",
              "    }\n",
              "  }\n",
              "</style>\n",
              "\n",
              "  <script>\n",
              "    async function quickchart(key) {\n",
              "      const quickchartButtonEl =\n",
              "        document.querySelector('#' + key + ' button');\n",
              "      quickchartButtonEl.disabled = true;  // To prevent multiple clicks.\n",
              "      quickchartButtonEl.classList.add('colab-df-spinner');\n",
              "      try {\n",
              "        const charts = await google.colab.kernel.invokeFunction(\n",
              "            'suggestCharts', [key], {});\n",
              "      } catch (error) {\n",
              "        console.error('Error during call to suggestCharts:', error);\n",
              "      }\n",
              "      quickchartButtonEl.classList.remove('colab-df-spinner');\n",
              "      quickchartButtonEl.classList.add('colab-df-quickchart-complete');\n",
              "    }\n",
              "    (() => {\n",
              "      let quickchartButtonEl =\n",
              "        document.querySelector('#df-94db15c8-a26c-499e-a8f2-95810b73c7db button');\n",
              "      quickchartButtonEl.style.display =\n",
              "        google.colab.kernel.accessAllowed ? 'block' : 'none';\n",
              "    })();\n",
              "  </script>\n",
              "</div>\n",
              "\n",
              "    </div>\n",
              "  </div>\n"
            ],
            "application/vnd.google.colaboratory.intrinsic+json": {
              "type": "dataframe",
              "variable_name": "df"
            }
          },
          "metadata": {},
          "execution_count": 3
        }
      ]
    },
    {
      "cell_type": "code",
      "source": [
        "df.shape"
      ],
      "metadata": {
        "colab": {
          "base_uri": "https://localhost:8080/"
        },
        "id": "DrMV2Keyfwim",
        "outputId": "735a8efb-9615-4412-f778-8a3fc1822105"
      },
      "execution_count": null,
      "outputs": [
        {
          "output_type": "execute_result",
          "data": {
            "text/plain": [
              "(649999, 3)"
            ]
          },
          "metadata": {},
          "execution_count": 4
        }
      ]
    },
    {
      "cell_type": "code",
      "source": [
        "# Another option to get the embeddings and handle the review data to build the model\n",
        "# the input file needs to be processed using hdfs, Spark in batches and keep storing the data into Parquet table\n",
        "# high level steps to be followed:\n",
        "\n",
        "# 1) load the libraries\n",
        "# from pyspark.sql import SparkSession\n",
        "# from pyspark.sql.functions import col\n",
        "# import pyarrow as pa\n",
        "# import pyarrow.parquet as pq\n",
        "\n",
        "# 2) Spark session\n",
        "# spark = SparkSession.builder \\\n",
        "#     .appName(\"Generate Embeddings\") \\\n",
        "#     .getOrCreate()\n",
        "\n",
        "# 3) Load the Universal Sentence Encoder\n",
        "#embed = hub.load(\"https://tfhub.dev/google/universal-sentence-encoder/4\")\n",
        "\n",
        "# 4) get the embeddings for a batch\n",
        "# def get_embeddings(reviews):\n",
        "#     \"\"\"Get embeddings for a batch of reviews.\"\"\"\n",
        "#     return embed(reviews).numpy()\n",
        "\n",
        "# 5) function for the batches and keep saving\n",
        "\n",
        "\n",
        "# 6) we need to define the paths for input and output files\n",
        "\n",
        "# 7) itertate over the file, and keep adding into Parquet table at the output path\n",
        "\n",
        "# stop Spark session"
      ],
      "metadata": {
        "id": "hlVFj__Iqm8a"
      },
      "execution_count": null,
      "outputs": []
    },
    {
      "cell_type": "code",
      "source": [
        "# taken from USE Embedding, sentence encoder\n",
        "from absl import logging\n",
        "\n",
        "import tensorflow as tf\n",
        "\n",
        "import tensorflow_hub as hub\n",
        "import matplotlib.pyplot as plt\n",
        "import numpy as np\n",
        "import os\n",
        "import pandas as pd\n",
        "import re\n",
        "import seaborn as sns\n",
        "\n",
        "# Load the Universal Sentence Encoder\n",
        "embed = hub.load(\"https://tfhub.dev/google/universal-sentence-encoder/4\")\n",
        "\n",
        "# Get embeddings\n",
        "def get_embeddings(reviews):\n",
        "    return embed(reviews).numpy()"
      ],
      "metadata": {
        "id": "XqJrYRhxCJxm"
      },
      "execution_count": null,
      "outputs": []
    },
    {
      "cell_type": "code",
      "source": [
        "col = [\"rating\", \"review_title\", \"review_description\"]\n",
        "df.columns = col\n",
        "df.columns"
      ],
      "metadata": {
        "colab": {
          "base_uri": "https://localhost:8080/"
        },
        "id": "yyDEEJkEI80N",
        "outputId": "3ee685a6-22d4-471d-9462-248072df308f"
      },
      "execution_count": null,
      "outputs": [
        {
          "output_type": "execute_result",
          "data": {
            "text/plain": [
              "Index(['rating', 'review_title', 'review_description'], dtype='object')"
            ]
          },
          "metadata": {},
          "execution_count": 6
        }
      ]
    },
    {
      "cell_type": "code",
      "source": [
        "df.shape"
      ],
      "metadata": {
        "colab": {
          "base_uri": "https://localhost:8080/"
        },
        "id": "yGv81xgwJFM4",
        "outputId": "fde300f4-123a-4d40-f39f-bfb94ba42c08"
      },
      "execution_count": null,
      "outputs": [
        {
          "output_type": "execute_result",
          "data": {
            "text/plain": [
              "(649999, 3)"
            ]
          },
          "metadata": {},
          "execution_count": 7
        }
      ]
    },
    {
      "cell_type": "code",
      "source": [
        "# get the entire data of 3rd column\n",
        "#reviews = list(df.iloc[:,[2]])\n",
        "reviews = df['review_description'].values\n",
        "type(reviews)"
      ],
      "metadata": {
        "colab": {
          "base_uri": "https://localhost:8080/"
        },
        "id": "oTr_eVHBCRQL",
        "outputId": "82ddb0fd-7e68-4315-eb31-8f5e3fe33883"
      },
      "execution_count": null,
      "outputs": [
        {
          "output_type": "execute_result",
          "data": {
            "text/plain": [
              "numpy.ndarray"
            ]
          },
          "metadata": {},
          "execution_count": 8
        }
      ]
    },
    {
      "cell_type": "code",
      "source": [
        "reviews.shape"
      ],
      "metadata": {
        "colab": {
          "base_uri": "https://localhost:8080/"
        },
        "id": "lmnx4NJ5H_Ax",
        "outputId": "c6521d93-5800-4355-b170-3d11ac806764"
      },
      "execution_count": null,
      "outputs": [
        {
          "output_type": "execute_result",
          "data": {
            "text/plain": [
              "(649999,)"
            ]
          },
          "metadata": {},
          "execution_count": 17
        }
      ]
    },
    {
      "cell_type": "code",
      "source": [
        "# get the ratings loaded to list\n",
        "# ratings = df[0][:20000].values\n",
        "# ratings[0:2]\n",
        "\n",
        "ratings = df[\"rating\"].values\n",
        "ratings.shape"
      ],
      "metadata": {
        "colab": {
          "base_uri": "https://localhost:8080/"
        },
        "id": "eZMKxBp3CR5f",
        "outputId": "73d00b90-251d-47f6-d86a-41c6e808a8b2"
      },
      "execution_count": null,
      "outputs": [
        {
          "output_type": "execute_result",
          "data": {
            "text/plain": [
              "(649999,)"
            ]
          },
          "metadata": {},
          "execution_count": 10
        }
      ]
    },
    {
      "cell_type": "code",
      "source": [
        "# Function to batch process embeddings\n",
        "# def batch_process_embeddings(texts, batch_size=1000):\n",
        "#     embeddings = []\n",
        "#     for i in range(0, len(texts), batch_size):\n",
        "#         batch_texts = texts[i:i + batch_size]\n",
        "#         batch_embeddings = embed(batch_texts)\n",
        "#         embeddings.append(batch_embeddings.numpy())\n",
        "#     return np.vstack(embeddings)\n",
        "\n"
      ],
      "metadata": {
        "id": "vFkylp7z0ux6"
      },
      "execution_count": null,
      "outputs": []
    },
    {
      "cell_type": "code",
      "source": [
        "# embeddings = batch_process_embeddings(reviews, batch_size=1000)"
      ],
      "metadata": {
        "id": "HcM3mDh81Drb"
      },
      "execution_count": null,
      "outputs": []
    },
    {
      "cell_type": "code",
      "source": [
        "len(reviews)"
      ],
      "metadata": {
        "colab": {
          "base_uri": "https://localhost:8080/"
        },
        "id": "obrTzUZG5Cz5",
        "outputId": "1b28d91c-dce1-4fb9-f7fc-1603dbed5841"
      },
      "execution_count": null,
      "outputs": [
        {
          "output_type": "execute_result",
          "data": {
            "text/plain": [
              "649999"
            ]
          },
          "metadata": {},
          "execution_count": 18
        }
      ]
    },
    {
      "cell_type": "code",
      "source": [
        "import csv\n",
        "def batch_process_embeddings_to_csv(texts, batch_size=1000, output_file='/content/drive/My Drive/CloudxLab/embeddings.csv'):\n",
        "    with open(output_file, 'w', newline='') as csvfile:\n",
        "        writer = csv.writer(csvfile)\n",
        "\n",
        "        # Optionally, write a header row if needed\n",
        "        writer.writerow([f'embedding_{i}' for i in range(512)])\n",
        "\n",
        "        for i in range(0, len(texts), batch_size):\n",
        "            batch_texts = texts[i:i + batch_size]\n",
        "            batch_embeddings = embed(batch_texts).numpy()"
      ],
      "metadata": {
        "id": "5phqKfzW1sqA"
      },
      "execution_count": null,
      "outputs": []
    },
    {
      "cell_type": "code",
      "source": [
        "def batch_process_embeddings_to_df(texts, ratings, batch_size=1000):\n",
        "    df = pd.DataFrame()\n",
        "\n",
        "    for i in range(0, len(texts), batch_size):\n",
        "        batch_texts = texts[i:i + batch_size]\n",
        "        batch_ratings = ratings[i:i + batch_size]\n",
        "        batch_embeddings = embed(batch_texts).numpy()\n",
        "\n",
        "        # Create a DataFrame for the current batch\n",
        "        batch_df = pd.DataFrame(batch_embeddings)\n",
        "        batch_df['rating'] = batch_ratings\n",
        "\n",
        "        # Append to the main DataFrame\n",
        "        df = pd.concat([df, batch_df], ignore_index=True)\n",
        "\n",
        "    return df"
      ],
      "metadata": {
        "id": "4Og6wYmi5gYZ"
      },
      "execution_count": null,
      "outputs": []
    },
    {
      "cell_type": "code",
      "source": [
        "# Process in batches and get the DataFrame\n",
        "df = batch_process_embeddings_to_df(reviews, ratings, batch_size=1000)"
      ],
      "metadata": {
        "id": "htXS0mUd58-p"
      },
      "execution_count": null,
      "outputs": []
    },
    {
      "cell_type": "code",
      "source": [
        "# Save the DataFrame to a CSV file\n",
        "df.to_csv('/content/drive/My Drive/CloudxLab/embeddings.csv', index=False)"
      ],
      "metadata": {
        "id": "fgzOvAfL5_H8"
      },
      "execution_count": null,
      "outputs": []
    },
    {
      "cell_type": "code",
      "source": [
        "batch_process_embeddings_to_csv(reviews, batch_size=1000)"
      ],
      "metadata": {
        "id": "PLvAE8Q813ij"
      },
      "execution_count": null,
      "outputs": []
    },
    {
      "cell_type": "code",
      "source": [
        "ls -lrt drive/MyDrive/CloudxLab"
      ],
      "metadata": {
        "colab": {
          "base_uri": "https://localhost:8080/"
        },
        "id": "A92sAize4EGZ",
        "outputId": "1b76c5a4-1878-401a-c0aa-ee9e23590e0c"
      },
      "execution_count": null,
      "outputs": [
        {
          "output_type": "stream",
          "name": "stdout",
          "text": [
            "total 4260181\n",
            "-rw------- 1 root root  292412008 Aug  3 14:01 amazon_review_small.txt\n",
            "-rw------- 1 root root 4070011931 Aug  9 16:23 embeddings.csv\n"
          ]
        }
      ]
    }
  ]
}