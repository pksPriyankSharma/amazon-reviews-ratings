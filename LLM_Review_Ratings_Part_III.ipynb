{
  "nbformat": 4,
  "nbformat_minor": 0,
  "metadata": {
    "colab": {
      "provenance": []
    },
    "kernelspec": {
      "name": "python3",
      "display_name": "Python 3"
    },
    "language_info": {
      "name": "python"
    }
  },
  "cells": [
    {
      "cell_type": "code",
      "source": [
        "# This Notebook is Part-III, where we are building the Model, will train it and save for\n",
        "# testing it. The saved Model can be loaded, so will not require to build it again.\n",
        "# It includes Batch processing of data to train and test, hence would not overload the Server."
      ],
      "metadata": {
        "id": "59sMup678-dY"
      },
      "execution_count": null,
      "outputs": []
    },
    {
      "cell_type": "markdown",
      "source": [
        "**Future work:**\n",
        "1.   The data pre-processing before Training the Model has to be incorporated, which will further improve the Accuracy of model. The focus was more on developing the skeleton to handle large dataset of reviews.\n",
        "2.   Currently the Model is trained with 1 epoch, so the Model can be trained with more epochs, that also will further enhance the Accuracy."
      ],
      "metadata": {
        "id": "7f_haQ7V8_pn"
      }
    },
    {
      "cell_type": "code",
      "source": [
        "# mount the drive in case it's not mounted already\n",
        "from google.colab import drive\n",
        "drive.mount('/content/drive')"
      ],
      "metadata": {
        "colab": {
          "base_uri": "https://localhost:8080/"
        },
        "id": "6TYRvAinzX4l",
        "outputId": "298d322d-6665-4a72-93b3-558d99acaeed"
      },
      "execution_count": 1,
      "outputs": [
        {
          "output_type": "stream",
          "name": "stdout",
          "text": [
            "Mounted at /content/drive\n"
          ]
        }
      ]
    },
    {
      "cell_type": "code",
      "source": [
        "# Paths for the files\n",
        "file_path = '/content/drive/My Drive/CloudxLab/embeddings.csv'\n",
        "train_file_path = '/content/drive/MyDrive/CloudxLab/df_train.csv'"
      ],
      "metadata": {
        "id": "MxReQ4_izcKt"
      },
      "execution_count": 2,
      "outputs": []
    },
    {
      "cell_type": "code",
      "execution_count": 3,
      "metadata": {
        "id": "g8TChRioy3xm"
      },
      "outputs": [],
      "source": [
        "# get the libraries imported\n",
        "import pandas as pd\n",
        "import numpy as np\n",
        "import tensorflow as tf\n",
        "from tensorflow.keras.models import Sequential\n",
        "from tensorflow.keras.layers import Dense\n",
        "from tensorflow.keras.utils import to_categorical\n"
      ]
    },
    {
      "cell_type": "code",
      "source": [
        "# we can have separate function for the Model to be Built, and will use simpler way of\n",
        "# of creating Artificial Neural Network\n",
        "def build_model(input_dim, num_classes):\n",
        "    model = Sequential([\n",
        "        Dense(512, activation='relu', input_dim=input_dim),\n",
        "        Dense(256, activation='relu'),\n",
        "        Dense(128, activation='relu'),\n",
        "        Dense(64, activation='relu'),\n",
        "        Dense(num_classes, activation='softmax')\n",
        "    ])\n",
        "\n",
        "    model.compile(optimizer='adam', loss='categorical_crossentropy', metrics=['accuracy'])\n",
        "    return model\n"
      ],
      "metadata": {
        "id": "qhVbeDKhy9sl"
      },
      "execution_count": null,
      "outputs": []
    },
    {
      "cell_type": "code",
      "source": [
        "# a separate function is good to have for Training the Model, and we are doing\n",
        "# it in incremental way while the data is being read in Batches\n",
        "def train_model_in_batches(train_file_path, batch_size=10000, num_epochs=1):\n",
        "    # Initialize the model\n",
        "    input_dim = 512  # Number of features (embeddings have 512 dimensions)\n",
        "    num_classes = 5  # Number of classes for ratings 1 to 5\n",
        "    model = build_model(input_dim, num_classes)\n",
        "    counter = 0\n",
        "    # Read the file in chunks and train the model\n",
        "    for chunk in pd.read_csv(train_file_path, chunksize=batch_size, header=None):\n",
        "        # Identify and clean the ratings column\n",
        "        chunk_ratings = chunk.iloc[:, -1]\n",
        "\n",
        "        # Convert ratings to numeric, coercing errors to NaN\n",
        "        chunk_ratings = pd.to_numeric(chunk_ratings, errors='coerce')\n",
        "\n",
        "        # Remove rows with NaN ratings\n",
        "        chunk = chunk[chunk_ratings.notna()]\n",
        "        chunk_ratings = chunk_ratings[chunk_ratings.notna()]\n",
        "\n",
        "        # Extract embeddings and ratings after cleaning\n",
        "        chunk_embeddings = chunk.iloc[:, :-1].values\n",
        "        chunk_ratings = chunk_ratings.astype(int) - 1\n",
        "\n",
        "        # Convert ratings to categorical\n",
        "        chunk_ratings_categorical = to_categorical(chunk_ratings, num_classes=num_classes)\n",
        "\n",
        "        # Train the model on the current batch\n",
        "        model.fit(chunk_embeddings, chunk_ratings_categorical, epochs=num_epochs, batch_size=batch_size, verbose=1)\n",
        "        counter += 1\n",
        "        print('this is the ', counter, 'of the iteration')\n",
        "    return model"
      ],
      "metadata": {
        "id": "I5jQkFS152EM"
      },
      "execution_count": null,
      "outputs": []
    },
    {
      "cell_type": "code",
      "source": [
        "trained_model = train_model_in_batches(train_file_path, batch_size=10000, num_epochs=1)"
      ],
      "metadata": {
        "colab": {
          "base_uri": "https://localhost:8080/"
        },
        "id": "nKCG_jBIzL6u",
        "outputId": "6eca276b-48f3-47dc-e332-f4200132c119"
      },
      "execution_count": null,
      "outputs": [
        {
          "output_type": "stream",
          "name": "stderr",
          "text": [
            "/usr/local/lib/python3.10/dist-packages/keras/src/layers/core/dense.py:87: UserWarning: Do not pass an `input_shape`/`input_dim` argument to a layer. When using Sequential models, prefer using an `Input(shape)` object as the first layer in the model instead.\n",
            "  super().__init__(activity_regularizer=activity_regularizer, **kwargs)\n",
            "<ipython-input-18-9e08435fdb27>:66: DtypeWarning: Columns (512) have mixed types. Specify dtype option on import or set low_memory=False.\n",
            "  for chunk in pd.read_csv(train_file_path, chunksize=batch_size, header=None):\n"
          ]
        },
        {
          "output_type": "stream",
          "name": "stdout",
          "text": [
            "\u001b[1m1/1\u001b[0m \u001b[32m━━━━━━━━━━━━━━━━━━━━\u001b[0m\u001b[37m\u001b[0m \u001b[1m3s\u001b[0m 3s/step - accuracy: 0.1870 - loss: 1.6098\n",
            "this is the  1 of the iteration\n",
            "\u001b[1m1/1\u001b[0m \u001b[32m━━━━━━━━━━━━━━━━━━━━\u001b[0m\u001b[37m\u001b[0m \u001b[1m0s\u001b[0m 482ms/step - accuracy: 0.2892 - loss: 1.6054\n",
            "this is the  2 of the iteration\n",
            "\u001b[1m1/1\u001b[0m \u001b[32m━━━━━━━━━━━━━━━━━━━━\u001b[0m\u001b[37m\u001b[0m \u001b[1m1s\u001b[0m 532ms/step - accuracy: 0.2960 - loss: 1.5993\n",
            "this is the  3 of the iteration\n",
            "\u001b[1m1/1\u001b[0m \u001b[32m━━━━━━━━━━━━━━━━━━━━\u001b[0m\u001b[37m\u001b[0m \u001b[1m0s\u001b[0m 391ms/step - accuracy: 0.3126 - loss: 1.5907\n",
            "this is the  4 of the iteration\n",
            "\u001b[1m1/1\u001b[0m \u001b[32m━━━━━━━━━━━━━━━━━━━━\u001b[0m\u001b[37m\u001b[0m \u001b[1m0s\u001b[0m 366ms/step - accuracy: 0.3264 - loss: 1.5804\n",
            "this is the  5 of the iteration\n",
            "\u001b[1m1/1\u001b[0m \u001b[32m━━━━━━━━━━━━━━━━━━━━\u001b[0m\u001b[37m\u001b[0m \u001b[1m0s\u001b[0m 473ms/step - accuracy: 0.3509 - loss: 1.5655\n",
            "this is the  6 of the iteration\n",
            "\u001b[1m1/1\u001b[0m \u001b[32m━━━━━━━━━━━━━━━━━━━━\u001b[0m\u001b[37m\u001b[0m \u001b[1m1s\u001b[0m 610ms/step - accuracy: 0.3642 - loss: 1.5443\n",
            "this is the  7 of the iteration\n",
            "\u001b[1m1/1\u001b[0m \u001b[32m━━━━━━━━━━━━━━━━━━━━\u001b[0m\u001b[37m\u001b[0m \u001b[1m1s\u001b[0m 594ms/step - accuracy: 0.3613 - loss: 1.5265\n",
            "this is the  8 of the iteration\n",
            "\u001b[1m1/1\u001b[0m \u001b[32m━━━━━━━━━━━━━━━━━━━━\u001b[0m\u001b[37m\u001b[0m \u001b[1m0s\u001b[0m 369ms/step - accuracy: 0.3832 - loss: 1.4941\n",
            "this is the  9 of the iteration\n",
            "\u001b[1m1/1\u001b[0m \u001b[32m━━━━━━━━━━━━━━━━━━━━\u001b[0m\u001b[37m\u001b[0m \u001b[1m0s\u001b[0m 395ms/step - accuracy: 0.3858 - loss: 1.4631\n",
            "this is the  10 of the iteration\n",
            "\u001b[1m1/1\u001b[0m \u001b[32m━━━━━━━━━━━━━━━━━━━━\u001b[0m\u001b[37m\u001b[0m \u001b[1m0s\u001b[0m 385ms/step - accuracy: 0.4050 - loss: 1.4281\n",
            "this is the  11 of the iteration\n",
            "\u001b[1m1/1\u001b[0m \u001b[32m━━━━━━━━━━━━━━━━━━━━\u001b[0m\u001b[37m\u001b[0m \u001b[1m0s\u001b[0m 370ms/step - accuracy: 0.3891 - loss: 1.4051\n",
            "this is the  12 of the iteration\n",
            "\u001b[1m1/1\u001b[0m \u001b[32m━━━━━━━━━━━━━━━━━━━━\u001b[0m\u001b[37m\u001b[0m \u001b[1m0s\u001b[0m 377ms/step - accuracy: 0.4232 - loss: 1.3596\n",
            "this is the  13 of the iteration\n",
            "\u001b[1m1/1\u001b[0m \u001b[32m━━━━━━━━━━━━━━━━━━━━\u001b[0m\u001b[37m\u001b[0m \u001b[1m1s\u001b[0m 782ms/step - accuracy: 0.4220 - loss: 1.3334\n",
            "this is the  14 of the iteration\n",
            "\u001b[1m1/1\u001b[0m \u001b[32m━━━━━━━━━━━━━━━━━━━━\u001b[0m\u001b[37m\u001b[0m \u001b[1m1s\u001b[0m 652ms/step - accuracy: 0.4211 - loss: 1.3165\n",
            "this is the  15 of the iteration\n",
            "\u001b[1m1/1\u001b[0m \u001b[32m━━━━━━━━━━━━━━━━━━━━\u001b[0m\u001b[37m\u001b[0m \u001b[1m0s\u001b[0m 372ms/step - accuracy: 0.4367 - loss: 1.2911\n",
            "this is the  16 of the iteration\n",
            "\u001b[1m1/1\u001b[0m \u001b[32m━━━━━━━━━━━━━━━━━━━━\u001b[0m\u001b[37m\u001b[0m \u001b[1m0s\u001b[0m 363ms/step - accuracy: 0.4387 - loss: 1.2793\n",
            "this is the  17 of the iteration\n",
            "\u001b[1m1/1\u001b[0m \u001b[32m━━━━━━━━━━━━━━━━━━━━\u001b[0m\u001b[37m\u001b[0m \u001b[1m0s\u001b[0m 375ms/step - accuracy: 0.4312 - loss: 1.2783\n",
            "this is the  18 of the iteration\n",
            "\u001b[1m1/1\u001b[0m \u001b[32m━━━━━━━━━━━━━━━━━━━━\u001b[0m\u001b[37m\u001b[0m \u001b[1m0s\u001b[0m 363ms/step - accuracy: 0.4476 - loss: 1.2670\n",
            "this is the  19 of the iteration\n",
            "\u001b[1m1/1\u001b[0m \u001b[32m━━━━━━━━━━━━━━━━━━━━\u001b[0m\u001b[37m\u001b[0m \u001b[1m1s\u001b[0m 681ms/step - accuracy: 0.4462 - loss: 1.2655\n",
            "this is the  20 of the iteration\n",
            "\u001b[1m1/1\u001b[0m \u001b[32m━━━━━━━━━━━━━━━━━━━━\u001b[0m\u001b[37m\u001b[0m \u001b[1m0s\u001b[0m 367ms/step - accuracy: 0.4500 - loss: 1.2414\n",
            "this is the  21 of the iteration\n",
            "\u001b[1m1/1\u001b[0m \u001b[32m━━━━━━━━━━━━━━━━━━━━\u001b[0m\u001b[37m\u001b[0m \u001b[1m1s\u001b[0m 631ms/step - accuracy: 0.4494 - loss: 1.2559\n",
            "this is the  22 of the iteration\n",
            "\u001b[1m1/1\u001b[0m \u001b[32m━━━━━━━━━━━━━━━━━━━━\u001b[0m\u001b[37m\u001b[0m \u001b[1m0s\u001b[0m 384ms/step - accuracy: 0.4468 - loss: 1.2480\n",
            "this is the  23 of the iteration\n",
            "\u001b[1m1/1\u001b[0m \u001b[32m━━━━━━━━━━━━━━━━━━━━\u001b[0m\u001b[37m\u001b[0m \u001b[1m0s\u001b[0m 369ms/step - accuracy: 0.4476 - loss: 1.2606\n",
            "this is the  24 of the iteration\n",
            "\u001b[1m1/1\u001b[0m \u001b[32m━━━━━━━━━━━━━━━━━━━━\u001b[0m\u001b[37m\u001b[0m \u001b[1m0s\u001b[0m 381ms/step - accuracy: 0.4526 - loss: 1.2469\n",
            "this is the  25 of the iteration\n",
            "\u001b[1m1/1\u001b[0m \u001b[32m━━━━━━━━━━━━━━━━━━━━\u001b[0m\u001b[37m\u001b[0m \u001b[1m1s\u001b[0m 548ms/step - accuracy: 0.4478 - loss: 1.2596\n",
            "this is the  26 of the iteration\n",
            "\u001b[1m1/1\u001b[0m \u001b[32m━━━━━━━━━━━━━━━━━━━━\u001b[0m\u001b[37m\u001b[0m \u001b[1m0s\u001b[0m 366ms/step - accuracy: 0.4535 - loss: 1.2594\n",
            "this is the  27 of the iteration\n",
            "\u001b[1m1/1\u001b[0m \u001b[32m━━━━━━━━━━━━━━━━━━━━\u001b[0m\u001b[37m\u001b[0m \u001b[1m1s\u001b[0m 884ms/step - accuracy: 0.4557 - loss: 1.2552\n",
            "this is the  28 of the iteration\n",
            "\u001b[1m1/1\u001b[0m \u001b[32m━━━━━━━━━━━━━━━━━━━━\u001b[0m\u001b[37m\u001b[0m \u001b[1m1s\u001b[0m 650ms/step - accuracy: 0.4547 - loss: 1.2493\n",
            "this is the  29 of the iteration\n",
            "\u001b[1m1/1\u001b[0m \u001b[32m━━━━━━━━━━━━━━━━━━━━\u001b[0m\u001b[37m\u001b[0m \u001b[1m0s\u001b[0m 366ms/step - accuracy: 0.4638 - loss: 1.2251\n",
            "this is the  30 of the iteration\n",
            "\u001b[1m1/1\u001b[0m \u001b[32m━━━━━━━━━━━━━━━━━━━━\u001b[0m\u001b[37m\u001b[0m \u001b[1m0s\u001b[0m 363ms/step - accuracy: 0.4606 - loss: 1.2343\n",
            "this is the  31 of the iteration\n",
            "\u001b[1m1/1\u001b[0m \u001b[32m━━━━━━━━━━━━━━━━━━━━\u001b[0m\u001b[37m\u001b[0m \u001b[1m1s\u001b[0m 792ms/step - accuracy: 0.4577 - loss: 1.2165\n",
            "this is the  32 of the iteration\n",
            "\u001b[1m1/1\u001b[0m \u001b[32m━━━━━━━━━━━━━━━━━━━━\u001b[0m\u001b[37m\u001b[0m \u001b[1m0s\u001b[0m 374ms/step - accuracy: 0.4588 - loss: 1.2300\n",
            "this is the  33 of the iteration\n",
            "\u001b[1m1/1\u001b[0m \u001b[32m━━━━━━━━━━━━━━━━━━━━\u001b[0m\u001b[37m\u001b[0m \u001b[1m0s\u001b[0m 376ms/step - accuracy: 0.4706 - loss: 1.2126\n",
            "this is the  34 of the iteration\n",
            "\u001b[1m1/1\u001b[0m \u001b[32m━━━━━━━━━━━━━━━━━━━━\u001b[0m\u001b[37m\u001b[0m \u001b[1m1s\u001b[0m 661ms/step - accuracy: 0.4569 - loss: 1.2347\n",
            "this is the  35 of the iteration\n",
            "\u001b[1m1/1\u001b[0m \u001b[32m━━━━━━━━━━━━━━━━━━━━\u001b[0m\u001b[37m\u001b[0m \u001b[1m1s\u001b[0m 935ms/step - accuracy: 0.4630 - loss: 1.2337\n",
            "this is the  36 of the iteration\n",
            "\u001b[1m1/1\u001b[0m \u001b[32m━━━━━━━━━━━━━━━━━━━━\u001b[0m\u001b[37m\u001b[0m \u001b[1m0s\u001b[0m 362ms/step - accuracy: 0.4634 - loss: 1.2228\n",
            "this is the  37 of the iteration\n",
            "\u001b[1m1/1\u001b[0m \u001b[32m━━━━━━━━━━━━━━━━━━━━\u001b[0m\u001b[37m\u001b[0m \u001b[1m0s\u001b[0m 369ms/step - accuracy: 0.4676 - loss: 1.2194\n",
            "this is the  38 of the iteration\n",
            "\u001b[1m1/1\u001b[0m \u001b[32m━━━━━━━━━━━━━━━━━━━━\u001b[0m\u001b[37m\u001b[0m \u001b[1m0s\u001b[0m 396ms/step - accuracy: 0.4615 - loss: 1.2295\n",
            "this is the  39 of the iteration\n",
            "\u001b[1m1/1\u001b[0m \u001b[32m━━━━━━━━━━━━━━━━━━━━\u001b[0m\u001b[37m\u001b[0m \u001b[1m0s\u001b[0m 366ms/step - accuracy: 0.4617 - loss: 1.2319\n",
            "this is the  40 of the iteration\n",
            "\u001b[1m1/1\u001b[0m \u001b[32m━━━━━━━━━━━━━━━━━━━━\u001b[0m\u001b[37m\u001b[0m \u001b[1m0s\u001b[0m 382ms/step - accuracy: 0.4679 - loss: 1.2167\n",
            "this is the  41 of the iteration\n",
            "\u001b[1m1/1\u001b[0m \u001b[32m━━━━━━━━━━━━━━━━━━━━\u001b[0m\u001b[37m\u001b[0m \u001b[1m1s\u001b[0m 795ms/step - accuracy: 0.4687 - loss: 1.2186\n",
            "this is the  42 of the iteration\n",
            "\u001b[1m1/1\u001b[0m \u001b[32m━━━━━━━━━━━━━━━━━━━━\u001b[0m\u001b[37m\u001b[0m \u001b[1m1s\u001b[0m 599ms/step - accuracy: 0.4548 - loss: 1.2265\n",
            "this is the  43 of the iteration\n",
            "\u001b[1m1/1\u001b[0m \u001b[32m━━━━━━━━━━━━━━━━━━━━\u001b[0m\u001b[37m\u001b[0m \u001b[1m0s\u001b[0m 404ms/step - accuracy: 0.4725 - loss: 1.2103\n",
            "this is the  44 of the iteration\n",
            "\u001b[1m1/1\u001b[0m \u001b[32m━━━━━━━━━━━━━━━━━━━━\u001b[0m\u001b[37m\u001b[0m \u001b[1m1s\u001b[0m 739ms/step - accuracy: 0.4624 - loss: 1.2278\n",
            "this is the  45 of the iteration\n",
            "\u001b[1m1/1\u001b[0m \u001b[32m━━━━━━━━━━━━━━━━━━━━\u001b[0m\u001b[37m\u001b[0m \u001b[1m0s\u001b[0m 370ms/step - accuracy: 0.4669 - loss: 1.2268\n",
            "this is the  46 of the iteration\n",
            "\u001b[1m1/1\u001b[0m \u001b[32m━━━━━━━━━━━━━━━━━━━━\u001b[0m\u001b[37m\u001b[0m \u001b[1m1s\u001b[0m 611ms/step - accuracy: 0.4666 - loss: 1.2120\n",
            "this is the  47 of the iteration\n",
            "\u001b[1m1/1\u001b[0m \u001b[32m━━━━━━━━━━━━━━━━━━━━\u001b[0m\u001b[37m\u001b[0m \u001b[1m0s\u001b[0m 376ms/step - accuracy: 0.4645 - loss: 1.2179\n",
            "this is the  48 of the iteration\n",
            "\u001b[1m1/1\u001b[0m \u001b[32m━━━━━━━━━━━━━━━━━━━━\u001b[0m\u001b[37m\u001b[0m \u001b[1m1s\u001b[0m 624ms/step - accuracy: 0.4634 - loss: 1.2180\n",
            "this is the  49 of the iteration\n",
            "\u001b[1m1/1\u001b[0m \u001b[32m━━━━━━━━━━━━━━━━━━━━\u001b[0m\u001b[37m\u001b[0m \u001b[1m1s\u001b[0m 925ms/step - accuracy: 0.4753 - loss: 1.1993\n",
            "this is the  50 of the iteration\n",
            "\u001b[1m1/1\u001b[0m \u001b[32m━━━━━━━━━━━━━━━━━━━━\u001b[0m\u001b[37m\u001b[0m \u001b[1m0s\u001b[0m 378ms/step - accuracy: 0.4701 - loss: 1.2093\n",
            "this is the  51 of the iteration\n",
            "\u001b[1m1/1\u001b[0m \u001b[32m━━━━━━━━━━━━━━━━━━━━\u001b[0m\u001b[37m\u001b[0m \u001b[1m0s\u001b[0m 386ms/step - accuracy: 0.4663 - loss: 1.2094\n",
            "this is the  52 of the iteration\n",
            "\u001b[1m1/1\u001b[0m \u001b[32m━━━━━━━━━━━━━━━━━━━━\u001b[0m\u001b[37m\u001b[0m \u001b[1m1s\u001b[0m 811ms/step - accuracy: 0.4743 - loss: 1.2100\n",
            "this is the  53 of the iteration\n",
            "\u001b[1m1/1\u001b[0m \u001b[32m━━━━━━━━━━━━━━━━━━━━\u001b[0m\u001b[37m\u001b[0m \u001b[1m0s\u001b[0m 368ms/step - accuracy: 0.4667 - loss: 1.2279\n",
            "this is the  54 of the iteration\n",
            "\u001b[1m1/1\u001b[0m \u001b[32m━━━━━━━━━━━━━━━━━━━━\u001b[0m\u001b[37m\u001b[0m \u001b[1m0s\u001b[0m 375ms/step - accuracy: 0.4696 - loss: 1.2296\n",
            "this is the  55 of the iteration\n",
            "\u001b[1m1/1\u001b[0m \u001b[32m━━━━━━━━━━━━━━━━━━━━\u001b[0m\u001b[37m\u001b[0m \u001b[1m1s\u001b[0m 649ms/step - accuracy: 0.4744 - loss: 1.2151\n",
            "this is the  56 of the iteration\n",
            "\u001b[1m1/1\u001b[0m \u001b[32m━━━━━━━━━━━━━━━━━━━━\u001b[0m\u001b[37m\u001b[0m \u001b[1m1s\u001b[0m 904ms/step - accuracy: 0.4717 - loss: 1.2162\n",
            "this is the  57 of the iteration\n",
            "\u001b[1m1/1\u001b[0m \u001b[32m━━━━━━━━━━━━━━━━━━━━\u001b[0m\u001b[37m\u001b[0m \u001b[1m0s\u001b[0m 385ms/step - accuracy: 0.4730 - loss: 1.2066\n",
            "this is the  58 of the iteration\n",
            "\u001b[1m1/1\u001b[0m \u001b[32m━━━━━━━━━━━━━━━━━━━━\u001b[0m\u001b[37m\u001b[0m \u001b[1m0s\u001b[0m 389ms/step - accuracy: 0.4709 - loss: 1.2060\n",
            "this is the  59 of the iteration\n",
            "\u001b[1m1/1\u001b[0m \u001b[32m━━━━━━━━━━━━━━━━━━━━\u001b[0m\u001b[37m\u001b[0m \u001b[1m0s\u001b[0m 433ms/step - accuracy: 0.4711 - loss: 1.2122\n",
            "this is the  60 of the iteration\n",
            "\u001b[1m1/1\u001b[0m \u001b[32m━━━━━━━━━━━━━━━━━━━━\u001b[0m\u001b[37m\u001b[0m \u001b[1m0s\u001b[0m 42ms/step - accuracy: 0.0000e+00 - loss: 1.6069\n",
            "this is the  61 of the iteration\n"
          ]
        }
      ]
    },
    {
      "cell_type": "code",
      "source": [
        "# Save the model to a file\n",
        "trained_model.save('/content/drive/MyDrive/CloudxLab/LLM-Basic-ANN.h5')"
      ],
      "metadata": {
        "colab": {
          "base_uri": "https://localhost:8080/"
        },
        "id": "22xiY2pSEiWO",
        "outputId": "76f44eaf-b7f5-4c99-bfbb-595778f3d141"
      },
      "execution_count": null,
      "outputs": [
        {
          "output_type": "stream",
          "name": "stderr",
          "text": [
            "WARNING:absl:You are saving your model as an HDF5 file via `model.save()` or `keras.saving.save_model(model)`. This file format is considered legacy. We recommend using instead the native Keras format, e.g. `model.save('my_model.keras')` or `keras.saving.save_model(model, 'my_model.keras')`. \n"
          ]
        }
      ]
    },
    {
      "cell_type": "code",
      "source": [
        "from tensorflow.keras.models import load_model\n",
        "\n",
        "# Load the model from a file\n",
        "loaded_model = load_model('/content/drive/MyDrive/CloudxLab/LLM-Basic-ANN.h5')"
      ],
      "metadata": {
        "colab": {
          "base_uri": "https://localhost:8080/"
        },
        "id": "WmIAm_JUD6qq",
        "outputId": "9bab0497-cc58-4739-c320-3dab74f0356f"
      },
      "execution_count": 4,
      "outputs": [
        {
          "output_type": "stream",
          "name": "stderr",
          "text": [
            "WARNING:absl:Compiled the loaded model, but the compiled metrics have yet to be built. `model.compile_metrics` will be empty until you train or evaluate the model.\n"
          ]
        }
      ]
    },
    {
      "cell_type": "code",
      "source": [
        "def test_model(test_file_path, loaded_model, batch_size=10000):\n",
        "    # Initialize the evaluation metrics\n",
        "    loss, accuracy = 0, 0\n",
        "    num_batches = 0\n",
        "\n",
        "    # Read the file in chunks\n",
        "    for chunk in pd.read_csv(test_file_path, chunksize=batch_size, header=None):\n",
        "        # Extract embeddings and ratings\n",
        "        chunk_embeddings = chunk.iloc[:, :-1].values\n",
        "        chunk_ratings = chunk.iloc[:, -1]\n",
        "\n",
        "        # Convert ratings to numeric, handle NaNs\n",
        "        chunk_ratings = pd.to_numeric(chunk_ratings, errors='coerce')\n",
        "        chunk_embeddings = chunk_embeddings[chunk_ratings.notna()]\n",
        "        chunk_ratings = chunk_ratings[chunk_ratings.notna()]\n",
        "\n",
        "        # Adjust ratings for zero-based indexing\n",
        "        chunk_ratings = chunk_ratings.astype(int) - 1\n",
        "\n",
        "        # Convert ratings to categorical\n",
        "        chunk_ratings_categorical = to_categorical(chunk_ratings, num_classes=5)\n",
        "\n",
        "        # Evaluate the model on the current batch\n",
        "        batch_loss, batch_accuracy = loaded_model.evaluate(chunk_embeddings, chunk_ratings_categorical, verbose=1)\n",
        "        loss += batch_loss\n",
        "        accuracy += batch_accuracy\n",
        "        num_batches += 1\n",
        "\n",
        "    # Average metrics over all batches\n",
        "    loss /= num_batches\n",
        "    accuracy /= num_batches\n",
        "    print(f\"Test Loss: {loss:.4f}, Accuracy: {accuracy:.4f}\")\n"
      ],
      "metadata": {
        "id": "eYHrjNBl_ids"
      },
      "execution_count": 6,
      "outputs": []
    },
    {
      "cell_type": "code",
      "source": [
        "test_file_path = \"/content/drive/MyDrive/CloudxLab/df_test.csv\"\n",
        "test_model(test_file_path, loaded_model, batch_size=10000)"
      ],
      "metadata": {
        "colab": {
          "base_uri": "https://localhost:8080/"
        },
        "id": "NDfANrk7hRx5",
        "outputId": "a6a507a9-9262-4907-f1e3-2e1d8e75c692"
      },
      "execution_count": 7,
      "outputs": [
        {
          "output_type": "stream",
          "name": "stderr",
          "text": [
            "<ipython-input-6-520fea792aba>:44: DtypeWarning: Columns (512) have mixed types. Specify dtype option on import or set low_memory=False.\n",
            "  for chunk in pd.read_csv(test_file_path, chunksize=batch_size, header=None):\n"
          ]
        },
        {
          "output_type": "stream",
          "name": "stdout",
          "text": [
            "\u001b[1m313/313\u001b[0m \u001b[32m━━━━━━━━━━━━━━━━━━━━\u001b[0m\u001b[37m\u001b[0m \u001b[1m1s\u001b[0m 3ms/step - accuracy: 0.4177 - loss: 1.3076\n",
            "\u001b[1m313/313\u001b[0m \u001b[32m━━━━━━━━━━━━━━━━━━━━\u001b[0m\u001b[37m\u001b[0m \u001b[1m1s\u001b[0m 3ms/step - accuracy: 0.4236 - loss: 1.2988\n",
            "\u001b[1m313/313\u001b[0m \u001b[32m━━━━━━━━━━━━━━━━━━━━\u001b[0m\u001b[37m\u001b[0m \u001b[1m1s\u001b[0m 3ms/step - accuracy: 0.4136 - loss: 1.2980\n",
            "\u001b[1m313/313\u001b[0m \u001b[32m━━━━━━━━━━━━━━━━━━━━\u001b[0m\u001b[37m\u001b[0m \u001b[1m1s\u001b[0m 4ms/step - accuracy: 0.4246 - loss: 1.2861\n",
            "\u001b[1m313/313\u001b[0m \u001b[32m━━━━━━━━━━━━━━━━━━━━\u001b[0m\u001b[37m\u001b[0m \u001b[1m1s\u001b[0m 3ms/step - accuracy: 0.4345 - loss: 1.2819\n",
            "Test Loss: 1.2972, Accuracy: 0.4220\n"
          ]
        }
      ]
    },
    {
      "cell_type": "code",
      "source": [
        "review_comment1 = \"The product shipped is not worth enough to use for personal purpose\"\n",
        "review_comment2 = \"This is an excellent product, and am very much satisfied with overall purchase experience\""
      ],
      "metadata": {
        "id": "9_MxlEtoiDeJ"
      },
      "execution_count": 8,
      "outputs": []
    },
    {
      "cell_type": "code",
      "source": [
        "# now we need to convert the review comments to embeddings, and use the model for testing\n",
        "import tensorflow as tf\n",
        "import tensorflow_hub as hub\n",
        "import numpy as np\n",
        "import pandas as pd\n",
        "\n",
        "# Load the Universal Sentence Encoder (assuming you used this for embeddings)\n",
        "embed = hub.load(\"https://tfhub.dev/google/universal-sentence-encoder/4\")\n",
        "\n",
        "# Load the trained model\n",
        "model_path = '/content/drive/MyDrive/CloudxLab/LLM-Basic-ANN.h5'\n",
        "model = tf.keras.models.load_model(model_path)\n",
        "\n",
        "def preprocess_review(review_text):\n",
        "    # Generate embeddings for the review text using Universal Sentence Encoder\n",
        "    review_embedding = embed([review_text])\n",
        "    return review_embedding.numpy()\n",
        "\n",
        "def predict_review_rating(review_text):\n",
        "    # Preprocess the review text to get embeddings\n",
        "    review_embedding = preprocess_review(review_text)\n",
        "\n",
        "    # Make prediction using the trained model\n",
        "    prediction = model.predict(review_embedding)\n",
        "\n",
        "    # Convert prediction to a class label (1-based index for ratings 1 to 5)\n",
        "    predicted_class = np.argmax(prediction, axis=1)[0] + 1\n",
        "    return predicted_class\n",
        "\n",
        "# Example review text\n",
        "review_text = \"The food was excellent and the service was very good.\"\n",
        "\n",
        "\n",
        "# Predict the rating for the review\n",
        "predicted_rating = predict_review_rating(review_text)\n",
        "print(f\"The predicted rating for the review is: {predicted_rating}\")"
      ],
      "metadata": {
        "colab": {
          "base_uri": "https://localhost:8080/"
        },
        "id": "V8AAICr0iX1v",
        "outputId": "86ca9518-cb37-4cbc-e587-abf421955ebe"
      },
      "execution_count": 9,
      "outputs": [
        {
          "output_type": "stream",
          "name": "stderr",
          "text": [
            "WARNING:absl:Compiled the loaded model, but the compiled metrics have yet to be built. `model.compile_metrics` will be empty until you train or evaluate the model.\n"
          ]
        },
        {
          "output_type": "stream",
          "name": "stdout",
          "text": [
            "\u001b[1m1/1\u001b[0m \u001b[32m━━━━━━━━━━━━━━━━━━━━\u001b[0m\u001b[37m\u001b[0m \u001b[1m0s\u001b[0m 72ms/step\n",
            "The predicted rating for the review is: 4\n"
          ]
        }
      ]
    },
    {
      "cell_type": "code",
      "source": [
        "review_text = \"The product shipped is not worth enough to use for personal purpose\""
      ],
      "metadata": {
        "id": "4VaOyhlvjnom"
      },
      "execution_count": 11,
      "outputs": []
    },
    {
      "cell_type": "code",
      "source": [
        "# Predict the rating for the review\n",
        "predicted_rating = predict_review_rating(review_text)\n",
        "print(f\"The predicted rating for the review is: {predicted_rating}\")"
      ],
      "metadata": {
        "colab": {
          "base_uri": "https://localhost:8080/"
        },
        "id": "rL21Xv--jo79",
        "outputId": "5d40dd26-ab6b-443a-a0d5-39a0f4b33f69"
      },
      "execution_count": 12,
      "outputs": [
        {
          "output_type": "stream",
          "name": "stdout",
          "text": [
            "\u001b[1m1/1\u001b[0m \u001b[32m━━━━━━━━━━━━━━━━━━━━\u001b[0m\u001b[37m\u001b[0m \u001b[1m0s\u001b[0m 19ms/step\n",
            "The predicted rating for the review is: 1\n"
          ]
        }
      ]
    },
    {
      "cell_type": "code",
      "source": [
        "import pandas as pd\n",
        "import tensorflow as tf\n",
        "import matplotlib.pyplot as plt\n",
        "\n",
        "def test_model_and_plot(test_file_path, loaded_model, batch_size=10000):\n",
        "    # Initialize lists to store loss and accuracy for each batch\n",
        "    losses = []\n",
        "    accuracies = []\n",
        "\n",
        "    # Read the file in chunks\n",
        "    for chunk in pd.read_csv(test_file_path, chunksize=batch_size, header=None):\n",
        "        # Extract embeddings and ratings\n",
        "        chunk_embeddings = chunk.iloc[:, :-1].values\n",
        "        chunk_ratings = chunk.iloc[:, -1]\n",
        "\n",
        "        # Convert ratings to numeric, handle NaNs\n",
        "        chunk_ratings = pd.to_numeric(chunk_ratings, errors='coerce')\n",
        "        chunk_embeddings = chunk_embeddings[chunk_ratings.notna()]\n",
        "        chunk_ratings = chunk_ratings[chunk_ratings.notna()]\n",
        "\n",
        "        # Adjust ratings for zero-based indexing\n",
        "        chunk_ratings = chunk_ratings.astype(int) - 1\n",
        "\n",
        "        # Convert ratings to categorical\n",
        "        chunk_ratings_categorical = tf.keras.utils.to_categorical(chunk_ratings, num_classes=5)\n",
        "\n",
        "        # Evaluate the model on the current batch\n",
        "        batch_loss, batch_accuracy = loaded_model.evaluate(chunk_embeddings, chunk_ratings_categorical, verbose=0)\n",
        "        losses.append(batch_loss)\n",
        "        accuracies.append(batch_accuracy)\n",
        "\n",
        "    # Plotting the accuracy and loss\n",
        "    plt.figure(figsize=(12, 5))\n",
        "\n",
        "    # Plot accuracy\n",
        "    plt.subplot(1, 2, 1)\n",
        "    plt.plot(accuracies, label='Test Accuracy')\n",
        "    plt.title('Test Accuracy per Batch')\n",
        "    plt.xlabel('Batch Number')\n",
        "    plt.ylabel('Accuracy')\n",
        "    plt.legend(loc='best')\n",
        "\n",
        "    # Plot loss\n",
        "    plt.subplot(1, 2, 2)\n",
        "    plt.plot(losses, label='Test Loss')\n",
        "    plt.title('Test Loss per Batch')\n",
        "    plt.xlabel('Batch Number')\n",
        "    plt.ylabel('Loss')\n",
        "    plt.legend(loc='best')\n",
        "\n",
        "    plt.tight_layout()\n",
        "    plt.show()\n",
        "\n",
        "# Path to your test file\n",
        "test_file_path = \"/content/drive/MyDrive/CloudxLab/df_test.csv\"\n",
        "loaded_model = tf.keras.models.load_model('/content/drive/MyDrive/CloudxLab/LLM-Basic-ANN.h5')\n",
        "\n",
        "# Test the model and plot the results\n",
        "test_model_and_plot(test_file_path, loaded_model, batch_size=10000)"
      ],
      "metadata": {
        "colab": {
          "base_uri": "https://localhost:8080/",
          "height": 545
        },
        "id": "1Jk5nssKk0xz",
        "outputId": "9b92a720-a1a0-4539-eb90-4ded2d6a5265"
      },
      "execution_count": 13,
      "outputs": [
        {
          "output_type": "stream",
          "name": "stderr",
          "text": [
            "WARNING:absl:Compiled the loaded model, but the compiled metrics have yet to be built. `model.compile_metrics` will be empty until you train or evaluate the model.\n",
            "<ipython-input-13-33f27f8ac623>:11: DtypeWarning: Columns (512) have mixed types. Specify dtype option on import or set low_memory=False.\n",
            "  for chunk in pd.read_csv(test_file_path, chunksize=batch_size, header=None):\n"
          ]
        },
        {
          "output_type": "display_data",
          "data": {
            "text/plain": [
              "<Figure size 1200x500 with 2 Axes>"
            ],
            "image/png": "[encoded data removed]"
          },
          "metadata": {}
        }
      ]
    }
  ]
}